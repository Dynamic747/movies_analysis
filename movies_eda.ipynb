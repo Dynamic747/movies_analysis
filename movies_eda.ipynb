{
 "cells": [
  {
   "cell_type": "code",
   "execution_count": null,
   "metadata": {},
   "outputs": [],
   "source": [
    "import kagglehub\n",
    "import pandas as pd\n",
    "import ast\n",
    "\n",
    "# Download the dataset\n",
    "path = kagglehub.dataset_download(\"rounakbanik/the-movies-dataset\")\n",
    "\n",
    "# Print the path to verify\n",
    "print(\"Path to dataset files:\", path)\n",
    "\n",
    "df = pd.read_csv(path + '/movies_metadata.csv')\n",
    "\n",
    "df['genres_clean']= df['genres'].apply(lambda x: [genre['name'] for genre in ast.literal_eval(x)] if isinstance(x, str) else [])\n",
    "\n",
    "# Majority of genres in genre list are Drama or Comedy\n",
    "pd.Series([genre for genre_list in df['genres_clean'] for genre in genre_list ]).value_counts().plot(kind='barh')"
   ]
  }
 ],
 "metadata": {
  "language_info": {
   "name": "python"
  },
  "orig_nbformat": 4
 },
 "nbformat": 4,
 "nbformat_minor": 2
}
